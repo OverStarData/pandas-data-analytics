{
 "cells": [
  {
   "cell_type": "code",
   "execution_count": 86,
   "id": "6328e9e1-3ab6-42f2-b978-6201e6a4d3d2",
   "metadata": {},
   "outputs": [],
   "source": [
    "import pandas as pd"
   ]
  },
  {
   "cell_type": "code",
   "execution_count": 87,
   "id": "e43e4a32-46e3-4636-8dc7-c51c34b22030",
   "metadata": {},
   "outputs": [],
   "source": [
    "pd.set_option('display.max_columns' , 85)\n",
    "pd.set_option('display.max_rows' ,85)"
   ]
  },
  {
   "cell_type": "code",
   "execution_count": 88,
   "id": "fb66d452-ced2-4a13-aa38-b94576fec534",
   "metadata": {},
   "outputs": [],
   "source": [
    "people={\n",
    " 'first' : [\"ahmed\",\"mohamed\",\"kamal\" , \"ahmed\"],\n",
    "    'last': [\"ali\", \"ibrahem\" , \"sayd\", \"mahmoud\"],\n",
    "    'age' : [23,13,45,34]\n",
    "}"
   ]
  },
  {
   "cell_type": "code",
   "execution_count": 89,
   "id": "8719ae99-22c3-4be6-bf2e-7c43f32be5dc",
   "metadata": {},
   "outputs": [
    {
     "data": {
      "text/plain": [
       "{'first': ['ahmed', 'mohamed', 'kamal', 'ahmed'],\n",
       " 'last': ['ali', 'ibrahem', 'sayd', 'mahmoud'],\n",
       " 'age': [23, 13, 45, 34]}"
      ]
     },
     "execution_count": 89,
     "metadata": {},
     "output_type": "execute_result"
    }
   ],
   "source": [
    "people"
   ]
  },
  {
   "cell_type": "code",
   "execution_count": 90,
   "id": "1d1c615e-5514-4faa-85b0-cc05ac7ae8e8",
   "metadata": {},
   "outputs": [],
   "source": [
    "df = pd.DataFrame(people)"
   ]
  },
  {
   "cell_type": "code",
   "execution_count": 91,
   "id": "f36eeb11-930b-4461-9fe6-cea0eb25d99d",
   "metadata": {},
   "outputs": [
    {
     "data": {
      "text/html": [
       "<div>\n",
       "<style scoped>\n",
       "    .dataframe tbody tr th:only-of-type {\n",
       "        vertical-align: middle;\n",
       "    }\n",
       "\n",
       "    .dataframe tbody tr th {\n",
       "        vertical-align: top;\n",
       "    }\n",
       "\n",
       "    .dataframe thead th {\n",
       "        text-align: right;\n",
       "    }\n",
       "</style>\n",
       "<table border=\"1\" class=\"dataframe\">\n",
       "  <thead>\n",
       "    <tr style=\"text-align: right;\">\n",
       "      <th></th>\n",
       "      <th>first</th>\n",
       "      <th>last</th>\n",
       "      <th>age</th>\n",
       "    </tr>\n",
       "  </thead>\n",
       "  <tbody>\n",
       "    <tr>\n",
       "      <th>0</th>\n",
       "      <td>ahmed</td>\n",
       "      <td>ali</td>\n",
       "      <td>23</td>\n",
       "    </tr>\n",
       "    <tr>\n",
       "      <th>1</th>\n",
       "      <td>mohamed</td>\n",
       "      <td>ibrahem</td>\n",
       "      <td>13</td>\n",
       "    </tr>\n",
       "    <tr>\n",
       "      <th>2</th>\n",
       "      <td>kamal</td>\n",
       "      <td>sayd</td>\n",
       "      <td>45</td>\n",
       "    </tr>\n",
       "    <tr>\n",
       "      <th>3</th>\n",
       "      <td>ahmed</td>\n",
       "      <td>mahmoud</td>\n",
       "      <td>34</td>\n",
       "    </tr>\n",
       "  </tbody>\n",
       "</table>\n",
       "</div>"
      ],
      "text/plain": [
       "     first     last  age\n",
       "0    ahmed      ali   23\n",
       "1  mohamed  ibrahem   13\n",
       "2    kamal     sayd   45\n",
       "3    ahmed  mahmoud   34"
      ]
     },
     "execution_count": 91,
     "metadata": {},
     "output_type": "execute_result"
    }
   ],
   "source": [
    "df"
   ]
  },
  {
   "cell_type": "code",
   "execution_count": 92,
   "id": "0a536f0b-7e54-4131-9ce2-2c7131c3e070",
   "metadata": {},
   "outputs": [
    {
     "data": {
      "text/plain": [
       "first    object\n",
       "last     object\n",
       "age       int64\n",
       "dtype: object"
      ]
     },
     "execution_count": 92,
     "metadata": {},
     "output_type": "execute_result"
    }
   ],
   "source": [
    "df.dtypes"
   ]
  },
  {
   "cell_type": "code",
   "execution_count": 93,
   "id": "03c868c8-aebf-4357-b3d4-82dd77d44f75",
   "metadata": {},
   "outputs": [
    {
     "data": {
      "text/plain": [
       "Index(['first', 'last', 'age'], dtype='object')"
      ]
     },
     "execution_count": 93,
     "metadata": {},
     "output_type": "execute_result"
    }
   ],
   "source": [
    "df.columns"
   ]
  },
  {
   "cell_type": "code",
   "execution_count": 94,
   "id": "a09d2ad5-829c-4d9d-9a04-d507a05fecba",
   "metadata": {},
   "outputs": [],
   "source": [
    "df.columns = ['frist_name', 'last_name', 'age']"
   ]
  },
  {
   "cell_type": "code",
   "execution_count": 95,
   "id": "84413818-0228-48c2-af07-af3592ef736f",
   "metadata": {},
   "outputs": [
    {
     "data": {
      "text/html": [
       "<div>\n",
       "<style scoped>\n",
       "    .dataframe tbody tr th:only-of-type {\n",
       "        vertical-align: middle;\n",
       "    }\n",
       "\n",
       "    .dataframe tbody tr th {\n",
       "        vertical-align: top;\n",
       "    }\n",
       "\n",
       "    .dataframe thead th {\n",
       "        text-align: right;\n",
       "    }\n",
       "</style>\n",
       "<table border=\"1\" class=\"dataframe\">\n",
       "  <thead>\n",
       "    <tr style=\"text-align: right;\">\n",
       "      <th></th>\n",
       "      <th>frist_name</th>\n",
       "      <th>last_name</th>\n",
       "      <th>age</th>\n",
       "    </tr>\n",
       "  </thead>\n",
       "  <tbody>\n",
       "    <tr>\n",
       "      <th>0</th>\n",
       "      <td>ahmed</td>\n",
       "      <td>ali</td>\n",
       "      <td>23</td>\n",
       "    </tr>\n",
       "    <tr>\n",
       "      <th>1</th>\n",
       "      <td>mohamed</td>\n",
       "      <td>ibrahem</td>\n",
       "      <td>13</td>\n",
       "    </tr>\n",
       "    <tr>\n",
       "      <th>2</th>\n",
       "      <td>kamal</td>\n",
       "      <td>sayd</td>\n",
       "      <td>45</td>\n",
       "    </tr>\n",
       "    <tr>\n",
       "      <th>3</th>\n",
       "      <td>ahmed</td>\n",
       "      <td>mahmoud</td>\n",
       "      <td>34</td>\n",
       "    </tr>\n",
       "  </tbody>\n",
       "</table>\n",
       "</div>"
      ],
      "text/plain": [
       "  frist_name last_name  age\n",
       "0      ahmed       ali   23\n",
       "1    mohamed   ibrahem   13\n",
       "2      kamal      sayd   45\n",
       "3      ahmed   mahmoud   34"
      ]
     },
     "execution_count": 95,
     "metadata": {},
     "output_type": "execute_result"
    }
   ],
   "source": [
    "df"
   ]
  },
  {
   "cell_type": "code",
   "execution_count": 96,
   "id": "aa308dae-28f0-46bf-a56e-e7d2cc335902",
   "metadata": {},
   "outputs": [],
   "source": [
    "df.columns = [x.upper() for x in df.columns]"
   ]
  },
  {
   "cell_type": "code",
   "execution_count": 97,
   "id": "778cc13c-496d-47d4-aa77-e85815156e00",
   "metadata": {},
   "outputs": [
    {
     "data": {
      "text/plain": [
       "Index(['FRIST_NAME', 'LAST_NAME', 'AGE'], dtype='object')"
      ]
     },
     "execution_count": 97,
     "metadata": {},
     "output_type": "execute_result"
    }
   ],
   "source": [
    "df.columns"
   ]
  },
  {
   "cell_type": "code",
   "execution_count": 98,
   "id": "dfc486e9-5055-4ebe-8a3d-195f34cf04c4",
   "metadata": {},
   "outputs": [],
   "source": [
    "df.columns = df.columns.str.replace('_', ' ')"
   ]
  },
  {
   "cell_type": "code",
   "execution_count": 99,
   "id": "f5458aaf-9404-4985-89a6-566b84aab0f2",
   "metadata": {},
   "outputs": [
    {
     "data": {
      "text/plain": [
       "Index(['FRIST NAME', 'LAST NAME', 'AGE'], dtype='object')"
      ]
     },
     "execution_count": 99,
     "metadata": {},
     "output_type": "execute_result"
    }
   ],
   "source": [
    "df.columns"
   ]
  },
  {
   "cell_type": "code",
   "execution_count": 100,
   "id": "82745df9-21c2-4ef5-9bbe-b55cd71ec932",
   "metadata": {},
   "outputs": [
    {
     "ename": "SyntaxError",
     "evalue": "invalid syntax (773857120.py, line 1)",
     "output_type": "error",
     "traceback": [
      "\u001b[0;36m  Cell \u001b[0;32mIn[100], line 1\u001b[0;36m\u001b[0m\n\u001b[0;31m    df.rename(columns= {'FRIST NAME': 'FIRST','LAST NAME': 'LAST'})df.rename(columns= {'FRIST NAME': 'FIRST','LAST NAME': 'LAST'})\u001b[0m\n\u001b[0m                                                                   ^\u001b[0m\n\u001b[0;31mSyntaxError\u001b[0m\u001b[0;31m:\u001b[0m invalid syntax\n"
     ]
    }
   ],
   "source": [
    "df.rename(columns= {'FRIST NAME': 'FIRST','LAST NAME': 'LAST'})df.rename(columns= {'FRIST NAME': 'FIRST','LAST NAME': 'LAST'})"
   ]
  },
  {
   "cell_type": "code",
   "execution_count": 101,
   "id": "3871d11e-852f-4348-901d-577a7559b87d",
   "metadata": {},
   "outputs": [
    {
     "data": {
      "text/plain": [
       "13"
      ]
     },
     "execution_count": 101,
     "metadata": {},
     "output_type": "execute_result"
    }
   ],
   "source": [
    "df.loc[1, 'AGE' ]"
   ]
  },
  {
   "cell_type": "code",
   "execution_count": 102,
   "id": "bc52e0d3-9598-4b82-babb-ef09d48ccb3c",
   "metadata": {},
   "outputs": [],
   "source": [
    "df.loc[1, 'AGE' ] = 14"
   ]
  },
  {
   "cell_type": "code",
   "execution_count": 103,
   "id": "eae56947-8c06-416e-8687-ab7390f38dc9",
   "metadata": {},
   "outputs": [
    {
     "data": {
      "text/html": [
       "<div>\n",
       "<style scoped>\n",
       "    .dataframe tbody tr th:only-of-type {\n",
       "        vertical-align: middle;\n",
       "    }\n",
       "\n",
       "    .dataframe tbody tr th {\n",
       "        vertical-align: top;\n",
       "    }\n",
       "\n",
       "    .dataframe thead th {\n",
       "        text-align: right;\n",
       "    }\n",
       "</style>\n",
       "<table border=\"1\" class=\"dataframe\">\n",
       "  <thead>\n",
       "    <tr style=\"text-align: right;\">\n",
       "      <th></th>\n",
       "      <th>FRIST NAME</th>\n",
       "      <th>LAST NAME</th>\n",
       "      <th>AGE</th>\n",
       "    </tr>\n",
       "  </thead>\n",
       "  <tbody>\n",
       "    <tr>\n",
       "      <th>0</th>\n",
       "      <td>ahmed</td>\n",
       "      <td>ali</td>\n",
       "      <td>23</td>\n",
       "    </tr>\n",
       "    <tr>\n",
       "      <th>1</th>\n",
       "      <td>mohamed</td>\n",
       "      <td>ibrahem</td>\n",
       "      <td>14</td>\n",
       "    </tr>\n",
       "    <tr>\n",
       "      <th>2</th>\n",
       "      <td>kamal</td>\n",
       "      <td>sayd</td>\n",
       "      <td>45</td>\n",
       "    </tr>\n",
       "    <tr>\n",
       "      <th>3</th>\n",
       "      <td>ahmed</td>\n",
       "      <td>mahmoud</td>\n",
       "      <td>34</td>\n",
       "    </tr>\n",
       "  </tbody>\n",
       "</table>\n",
       "</div>"
      ],
      "text/plain": [
       "  FRIST NAME LAST NAME  AGE\n",
       "0      ahmed       ali   23\n",
       "1    mohamed   ibrahem   14\n",
       "2      kamal      sayd   45\n",
       "3      ahmed   mahmoud   34"
      ]
     },
     "execution_count": 103,
     "metadata": {},
     "output_type": "execute_result"
    }
   ],
   "source": [
    "df"
   ]
  },
  {
   "cell_type": "code",
   "execution_count": 104,
   "id": "d96a6045-610e-45bc-8aae-80ab40cb6404",
   "metadata": {},
   "outputs": [
    {
     "data": {
      "text/plain": [
       "array([23, 14, 45, 34])"
      ]
     },
     "execution_count": 104,
     "metadata": {},
     "output_type": "execute_result"
    }
   ],
   "source": [
    "df['AGE'].unique()"
   ]
  },
  {
   "cell_type": "code",
   "execution_count": 105,
   "id": "d873cff0-db2f-41fa-873a-94fc8d4462f2",
   "metadata": {},
   "outputs": [],
   "source": [
    "filter  = (df['AGE'] == 23)"
   ]
  },
  {
   "cell_type": "code",
   "execution_count": 106,
   "id": "494d9db7-75ad-4c2c-8682-28c8d562943d",
   "metadata": {},
   "outputs": [
    {
     "name": "stderr",
     "output_type": "stream",
     "text": [
      "/var/folders/k2/5_07psxj3qz4yhw3pvkntffr0000gn/T/ipykernel_2936/1969530097.py:1: SettingWithCopyWarning: \n",
      "A value is trying to be set on a copy of a slice from a DataFrame.\n",
      "Try using .loc[row_indexer,col_indexer] = value instead\n",
      "\n",
      "See the caveats in the documentation: https://pandas.pydata.org/pandas-docs/stable/user_guide/indexing.html#returning-a-view-versus-a-copy\n",
      "  df[filter]['AGE'] = 24\n"
     ]
    }
   ],
   "source": [
    "df[filter]['AGE'] = 24"
   ]
  },
  {
   "cell_type": "code",
   "execution_count": 107,
   "id": "ec132404-6880-4b29-95f1-084c1be5950e",
   "metadata": {},
   "outputs": [
    {
     "data": {
      "text/html": [
       "<div>\n",
       "<style scoped>\n",
       "    .dataframe tbody tr th:only-of-type {\n",
       "        vertical-align: middle;\n",
       "    }\n",
       "\n",
       "    .dataframe tbody tr th {\n",
       "        vertical-align: top;\n",
       "    }\n",
       "\n",
       "    .dataframe thead th {\n",
       "        text-align: right;\n",
       "    }\n",
       "</style>\n",
       "<table border=\"1\" class=\"dataframe\">\n",
       "  <thead>\n",
       "    <tr style=\"text-align: right;\">\n",
       "      <th></th>\n",
       "      <th>FRIST NAME</th>\n",
       "      <th>LAST NAME</th>\n",
       "      <th>AGE</th>\n",
       "    </tr>\n",
       "  </thead>\n",
       "  <tbody>\n",
       "    <tr>\n",
       "      <th>0</th>\n",
       "      <td>ahmed</td>\n",
       "      <td>ali</td>\n",
       "      <td>23</td>\n",
       "    </tr>\n",
       "    <tr>\n",
       "      <th>1</th>\n",
       "      <td>mohamed</td>\n",
       "      <td>ibrahem</td>\n",
       "      <td>14</td>\n",
       "    </tr>\n",
       "    <tr>\n",
       "      <th>2</th>\n",
       "      <td>kamal</td>\n",
       "      <td>sayd</td>\n",
       "      <td>45</td>\n",
       "    </tr>\n",
       "    <tr>\n",
       "      <th>3</th>\n",
       "      <td>ahmed</td>\n",
       "      <td>mahmoud</td>\n",
       "      <td>34</td>\n",
       "    </tr>\n",
       "  </tbody>\n",
       "</table>\n",
       "</div>"
      ],
      "text/plain": [
       "  FRIST NAME LAST NAME  AGE\n",
       "0      ahmed       ali   23\n",
       "1    mohamed   ibrahem   14\n",
       "2      kamal      sayd   45\n",
       "3      ahmed   mahmoud   34"
      ]
     },
     "execution_count": 107,
     "metadata": {},
     "output_type": "execute_result"
    }
   ],
   "source": [
    "df"
   ]
  },
  {
   "cell_type": "code",
   "execution_count": 108,
   "id": "a2115c2d-5c98-487d-bbc4-0ce791f837f0",
   "metadata": {},
   "outputs": [],
   "source": [
    "df.loc[0, 'AGE'] = 24"
   ]
  },
  {
   "cell_type": "code",
   "execution_count": 109,
   "id": "7ba2f05d-cd59-4b7e-997a-f005c8723a4c",
   "metadata": {},
   "outputs": [
    {
     "data": {
      "text/html": [
       "<div>\n",
       "<style scoped>\n",
       "    .dataframe tbody tr th:only-of-type {\n",
       "        vertical-align: middle;\n",
       "    }\n",
       "\n",
       "    .dataframe tbody tr th {\n",
       "        vertical-align: top;\n",
       "    }\n",
       "\n",
       "    .dataframe thead th {\n",
       "        text-align: right;\n",
       "    }\n",
       "</style>\n",
       "<table border=\"1\" class=\"dataframe\">\n",
       "  <thead>\n",
       "    <tr style=\"text-align: right;\">\n",
       "      <th></th>\n",
       "      <th>FRIST NAME</th>\n",
       "      <th>LAST NAME</th>\n",
       "      <th>AGE</th>\n",
       "    </tr>\n",
       "  </thead>\n",
       "  <tbody>\n",
       "    <tr>\n",
       "      <th>0</th>\n",
       "      <td>ahmed</td>\n",
       "      <td>ali</td>\n",
       "      <td>24</td>\n",
       "    </tr>\n",
       "    <tr>\n",
       "      <th>1</th>\n",
       "      <td>mohamed</td>\n",
       "      <td>ibrahem</td>\n",
       "      <td>14</td>\n",
       "    </tr>\n",
       "    <tr>\n",
       "      <th>2</th>\n",
       "      <td>kamal</td>\n",
       "      <td>sayd</td>\n",
       "      <td>45</td>\n",
       "    </tr>\n",
       "    <tr>\n",
       "      <th>3</th>\n",
       "      <td>ahmed</td>\n",
       "      <td>mahmoud</td>\n",
       "      <td>34</td>\n",
       "    </tr>\n",
       "  </tbody>\n",
       "</table>\n",
       "</div>"
      ],
      "text/plain": [
       "  FRIST NAME LAST NAME  AGE\n",
       "0      ahmed       ali   24\n",
       "1    mohamed   ibrahem   14\n",
       "2      kamal      sayd   45\n",
       "3      ahmed   mahmoud   34"
      ]
     },
     "execution_count": 109,
     "metadata": {},
     "output_type": "execute_result"
    }
   ],
   "source": [
    "df"
   ]
  },
  {
   "cell_type": "code",
   "execution_count": 110,
   "id": "b0044f59-43ae-4c77-9d21-bcdde674c63e",
   "metadata": {},
   "outputs": [],
   "source": [
    "df.rename(columns= {'FRIST NAME': 'first','LAST NAME': 'last', 'AGE' :'age'}, inplace=True)"
   ]
  },
  {
   "cell_type": "code",
   "execution_count": 111,
   "id": "386b958a-86f3-4ac9-b8e5-aa873823af8e",
   "metadata": {},
   "outputs": [],
   "source": [
    "df['first'] = df['first'].str.upper()"
   ]
  },
  {
   "cell_type": "code",
   "execution_count": 112,
   "id": "85a2999a-d9e4-400f-b632-6e9aaa56ac48",
   "metadata": {},
   "outputs": [
    {
     "data": {
      "text/plain": [
       "'AHMED'"
      ]
     },
     "execution_count": 112,
     "metadata": {},
     "output_type": "execute_result"
    }
   ],
   "source": [
    " df.loc[0, 'first']\n"
   ]
  },
  {
   "cell_type": "code",
   "execution_count": 113,
   "id": "0a4bce0e-f3d8-46d5-85f3-2449b6050aed",
   "metadata": {},
   "outputs": [],
   "source": [
    "df['last'] = df['last'].apply(lambda x: x.upper())"
   ]
  },
  {
   "cell_type": "code",
   "execution_count": 114,
   "id": "829fa81c-7fa6-4cef-9677-f442553b61c8",
   "metadata": {},
   "outputs": [
    {
     "data": {
      "text/html": [
       "<div>\n",
       "<style scoped>\n",
       "    .dataframe tbody tr th:only-of-type {\n",
       "        vertical-align: middle;\n",
       "    }\n",
       "\n",
       "    .dataframe tbody tr th {\n",
       "        vertical-align: top;\n",
       "    }\n",
       "\n",
       "    .dataframe thead th {\n",
       "        text-align: right;\n",
       "    }\n",
       "</style>\n",
       "<table border=\"1\" class=\"dataframe\">\n",
       "  <thead>\n",
       "    <tr style=\"text-align: right;\">\n",
       "      <th></th>\n",
       "      <th>first</th>\n",
       "      <th>last</th>\n",
       "      <th>age</th>\n",
       "    </tr>\n",
       "  </thead>\n",
       "  <tbody>\n",
       "    <tr>\n",
       "      <th>0</th>\n",
       "      <td>AHMED</td>\n",
       "      <td>ALI</td>\n",
       "      <td>24</td>\n",
       "    </tr>\n",
       "    <tr>\n",
       "      <th>1</th>\n",
       "      <td>MOHAMED</td>\n",
       "      <td>IBRAHEM</td>\n",
       "      <td>14</td>\n",
       "    </tr>\n",
       "    <tr>\n",
       "      <th>2</th>\n",
       "      <td>KAMAL</td>\n",
       "      <td>SAYD</td>\n",
       "      <td>45</td>\n",
       "    </tr>\n",
       "    <tr>\n",
       "      <th>3</th>\n",
       "      <td>AHMED</td>\n",
       "      <td>MAHMOUD</td>\n",
       "      <td>34</td>\n",
       "    </tr>\n",
       "  </tbody>\n",
       "</table>\n",
       "</div>"
      ],
      "text/plain": [
       "     first     last  age\n",
       "0    AHMED      ALI   24\n",
       "1  MOHAMED  IBRAHEM   14\n",
       "2    KAMAL     SAYD   45\n",
       "3    AHMED  MAHMOUD   34"
      ]
     },
     "execution_count": 114,
     "metadata": {},
     "output_type": "execute_result"
    }
   ],
   "source": [
    "df"
   ]
  },
  {
   "cell_type": "code",
   "execution_count": 115,
   "id": "2d0757f9-9c21-4845-9474-89436cb6ec2d",
   "metadata": {},
   "outputs": [],
   "source": [
    "def change_to_lower(last_name):\n",
    "    return last_name.lower()\n",
    "    \n",
    "df['last'] = df['last'].apply(change_to_lower)"
   ]
  },
  {
   "cell_type": "code",
   "execution_count": 116,
   "id": "fc1038c3-7518-49ef-a252-331325f80d3c",
   "metadata": {},
   "outputs": [
    {
     "data": {
      "text/html": [
       "<div>\n",
       "<style scoped>\n",
       "    .dataframe tbody tr th:only-of-type {\n",
       "        vertical-align: middle;\n",
       "    }\n",
       "\n",
       "    .dataframe tbody tr th {\n",
       "        vertical-align: top;\n",
       "    }\n",
       "\n",
       "    .dataframe thead th {\n",
       "        text-align: right;\n",
       "    }\n",
       "</style>\n",
       "<table border=\"1\" class=\"dataframe\">\n",
       "  <thead>\n",
       "    <tr style=\"text-align: right;\">\n",
       "      <th></th>\n",
       "      <th>first</th>\n",
       "      <th>last</th>\n",
       "      <th>age</th>\n",
       "    </tr>\n",
       "  </thead>\n",
       "  <tbody>\n",
       "    <tr>\n",
       "      <th>0</th>\n",
       "      <td>AHMED</td>\n",
       "      <td>ali</td>\n",
       "      <td>24</td>\n",
       "    </tr>\n",
       "    <tr>\n",
       "      <th>1</th>\n",
       "      <td>MOHAMED</td>\n",
       "      <td>ibrahem</td>\n",
       "      <td>14</td>\n",
       "    </tr>\n",
       "    <tr>\n",
       "      <th>2</th>\n",
       "      <td>KAMAL</td>\n",
       "      <td>sayd</td>\n",
       "      <td>45</td>\n",
       "    </tr>\n",
       "    <tr>\n",
       "      <th>3</th>\n",
       "      <td>AHMED</td>\n",
       "      <td>mahmoud</td>\n",
       "      <td>34</td>\n",
       "    </tr>\n",
       "  </tbody>\n",
       "</table>\n",
       "</div>"
      ],
      "text/plain": [
       "     first     last  age\n",
       "0    AHMED      ali   24\n",
       "1  MOHAMED  ibrahem   14\n",
       "2    KAMAL     sayd   45\n",
       "3    AHMED  mahmoud   34"
      ]
     },
     "execution_count": 116,
     "metadata": {},
     "output_type": "execute_result"
    }
   ],
   "source": [
    "df"
   ]
  },
  {
   "cell_type": "code",
   "execution_count": 124,
   "id": "7e8a575f-5db7-4e2a-9cce-c3212a6b2b5c",
   "metadata": {},
   "outputs": [
    {
     "data": {
      "text/plain": [
       "first    4\n",
       "last     4\n",
       "age      4\n",
       "dtype: int64"
      ]
     },
     "execution_count": 124,
     "metadata": {},
     "output_type": "execute_result"
    }
   ],
   "source": [
    "df.apply(len)"
   ]
  },
  {
   "cell_type": "code",
   "execution_count": 134,
   "id": "327c2141-e56c-41ef-803c-9941606174b9",
   "metadata": {},
   "outputs": [],
   "source": [
    "df['first'] = df['last'].replace({'ali':'AH'})"
   ]
  },
  {
   "cell_type": "code",
   "execution_count": 135,
   "id": "c1d619fe-7906-4777-bdb9-4fb600776ec9",
   "metadata": {},
   "outputs": [
    {
     "data": {
      "text/html": [
       "<div>\n",
       "<style scoped>\n",
       "    .dataframe tbody tr th:only-of-type {\n",
       "        vertical-align: middle;\n",
       "    }\n",
       "\n",
       "    .dataframe tbody tr th {\n",
       "        vertical-align: top;\n",
       "    }\n",
       "\n",
       "    .dataframe thead th {\n",
       "        text-align: right;\n",
       "    }\n",
       "</style>\n",
       "<table border=\"1\" class=\"dataframe\">\n",
       "  <thead>\n",
       "    <tr style=\"text-align: right;\">\n",
       "      <th></th>\n",
       "      <th>first</th>\n",
       "      <th>last</th>\n",
       "      <th>age</th>\n",
       "    </tr>\n",
       "  </thead>\n",
       "  <tbody>\n",
       "    <tr>\n",
       "      <th>0</th>\n",
       "      <td>AH</td>\n",
       "      <td>ali</td>\n",
       "      <td>24</td>\n",
       "    </tr>\n",
       "    <tr>\n",
       "      <th>1</th>\n",
       "      <td>ibrahem</td>\n",
       "      <td>ibrahem</td>\n",
       "      <td>14</td>\n",
       "    </tr>\n",
       "    <tr>\n",
       "      <th>2</th>\n",
       "      <td>sayd</td>\n",
       "      <td>sayd</td>\n",
       "      <td>45</td>\n",
       "    </tr>\n",
       "    <tr>\n",
       "      <th>3</th>\n",
       "      <td>mahmoud</td>\n",
       "      <td>mahmoud</td>\n",
       "      <td>34</td>\n",
       "    </tr>\n",
       "  </tbody>\n",
       "</table>\n",
       "</div>"
      ],
      "text/plain": [
       "     first     last  age\n",
       "0       AH      ali   24\n",
       "1  ibrahem  ibrahem   14\n",
       "2     sayd     sayd   45\n",
       "3  mahmoud  mahmoud   34"
      ]
     },
     "execution_count": 135,
     "metadata": {},
     "output_type": "execute_result"
    }
   ],
   "source": [
    "df"
   ]
  },
  {
   "cell_type": "code",
   "execution_count": null,
   "id": "0915dd77-ce8d-490d-88b7-06f03d81fc06",
   "metadata": {},
   "outputs": [],
   "source": []
  }
 ],
 "metadata": {
  "kernelspec": {
   "display_name": "Python [conda env:base] *",
   "language": "python",
   "name": "conda-base-py"
  },
  "language_info": {
   "codemirror_mode": {
    "name": "ipython",
    "version": 3
   },
   "file_extension": ".py",
   "mimetype": "text/x-python",
   "name": "python",
   "nbconvert_exporter": "python",
   "pygments_lexer": "ipython3",
   "version": "3.12.7"
  }
 },
 "nbformat": 4,
 "nbformat_minor": 5
}
